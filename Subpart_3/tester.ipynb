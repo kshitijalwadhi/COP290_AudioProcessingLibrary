{
 "cells": [
  {
   "cell_type": "code",
   "execution_count": 1,
   "metadata": {},
   "outputs": [],
   "source": [
    "import os\n",
    "import pandas as pd"
   ]
  },
  {
   "cell_type": "code",
   "execution_count": 2,
   "metadata": {},
   "outputs": [],
   "source": [
    "path = \"mfcc_features\"\n",
    "files = os.listdir(path)\n",
    "files.sort()"
   ]
  },
  {
   "cell_type": "code",
   "execution_count": 9,
   "metadata": {},
   "outputs": [
    {
     "data": {
      "text/plain": [
       "0"
      ]
     },
     "execution_count": 9,
     "metadata": {},
     "output_type": "execute_result"
    }
   ],
   "source": [
    "os.system(\"LD_LIBRARY_PATH=/home/kshitij/Documents/GitHub/COP290_AudioProcessingLibrary/part3/LIB:$LD_LIBRARY_PATH\")"
   ]
  },
  {
   "cell_type": "code",
   "execution_count": 10,
   "metadata": {},
   "outputs": [
    {
     "name": "stderr",
     "output_type": "stream",
     "text": [
      "./yourcode.out: error while loading shared libraries: libaudio.so: cannot open shared object file: No such file or directory\n",
      "./yourcode.out: error while loading shared libraries: libaudio.so: cannot open shared object file: No such file or directory\n",
      "./yourcode.out: error while loading shared libraries: libaudio.so: cannot open shared object file: No such file or directory\n",
      "./yourcode.out: error while loading shared libraries: libaudio.so: cannot open shared object file: No such file or directory\n",
      "./yourcode.out: error while loading shared libraries: libaudio.so: cannot open shared object file: No such file or directory\n",
      "./yourcode.out: error while loading shared libraries: libaudio.so: cannot open shared object file: No such file or directory\n",
      "./yourcode.out: error while loading shared libraries: libaudio.so: cannot open shared object file: No such file or directory\n",
      "./yourcode.out: error while loading shared libraries: libaudio.so: cannot open shared object file: No such file or directory\n",
      "./yourcode.out: error while loading shared libraries: libaudio.so: cannot open shared object file: No such file or directory\n",
      "./yourcode.out: error while loading shared libraries: libaudio.so: cannot open shared object file: No such file or directory\n",
      "./yourcode.out: error while loading shared libraries: libaudio.so: cannot open shared object file: No such file or directory\n",
      "./yourcode.out: error while loading shared libraries: libaudio.so: cannot open shared object file: No such file or directory\n",
      "./yourcode.out: error while loading shared libraries: libaudio.so: cannot open shared object file: No such file or directory\n",
      "./yourcode.out: error while loading shared libraries: libaudio.so: cannot open shared object file: No such file or directory\n",
      "./yourcode.out: error while loading shared libraries: libaudio.so: cannot open shared object file: No such file or directory\n",
      "./yourcode.out: error while loading shared libraries: libaudio.so: cannot open shared object file: No such file or directory\n",
      "./yourcode.out: error while loading shared libraries: libaudio.so: cannot open shared object file: No such file or directory\n",
      "./yourcode.out: error while loading shared libraries: libaudio.so: cannot open shared object file: No such file or directory\n",
      "./yourcode.out: error while loading shared libraries: libaudio.so: cannot open shared object file: No such file or directory\n",
      "./yourcode.out: error while loading shared libraries: libaudio.so: cannot open shared object file: No such file or directory\n",
      "./yourcode.out: error while loading shared libraries: libaudio.so: cannot open shared object file: No such file or directory\n",
      "./yourcode.out: error while loading shared libraries: libaudio.so: cannot open shared object file: No such file or directory\n",
      "./yourcode.out: error while loading shared libraries: libaudio.so: cannot open shared object file: No such file or directory\n",
      "./yourcode.out: error while loading shared libraries: libaudio.so: cannot open shared object file: No such file or directory\n",
      "./yourcode.out: error while loading shared libraries: libaudio.so: cannot open shared object file: No such file or directory\n",
      "./yourcode.out: error while loading shared libraries: libaudio.so: cannot open shared object file: No such file or directory\n",
      "./yourcode.out: error while loading shared libraries: libaudio.so: cannot open shared object file: No such file or directory\n",
      "./yourcode.out: error while loading shared libraries: libaudio.so: cannot open shared object file: No such file or directory\n",
      "./yourcode.out: error while loading shared libraries: libaudio.so: cannot open shared object file: No such file or directory\n",
      "./yourcode.out: error while loading shared libraries: libaudio.so: cannot open shared object file: No such file or directory\n"
     ]
    }
   ],
   "source": [
    "for f in files:\n",
    "    cmd = \"./yourcode.out \" + path + \"/\" + f + \" output.txt\"\n",
    "    os.system(cmd)"
   ]
  },
  {
   "cell_type": "code",
   "execution_count": 4,
   "metadata": {},
   "outputs": [],
   "source": [
    "df = pd.read_csv(\"softmax_output.csv\")"
   ]
  },
  {
   "cell_type": "code",
   "execution_count": 5,
   "metadata": {},
   "outputs": [],
   "source": [
    "# remove space from column names\n",
    "df.columns = df.columns.str.strip()"
   ]
  },
  {
   "cell_type": "code",
   "execution_count": 6,
   "metadata": {},
   "outputs": [],
   "source": [
    "# sort df by filename\n",
    "df = df.sort_values(by=['filename'])"
   ]
  },
  {
   "cell_type": "code",
   "execution_count": 7,
   "metadata": {},
   "outputs": [
    {
     "data": {
      "text/html": [
       "<div>\n",
       "<style scoped>\n",
       "    .dataframe tbody tr th:only-of-type {\n",
       "        vertical-align: middle;\n",
       "    }\n",
       "\n",
       "    .dataframe tbody tr th {\n",
       "        vertical-align: top;\n",
       "    }\n",
       "\n",
       "    .dataframe thead th {\n",
       "        text-align: right;\n",
       "    }\n",
       "</style>\n",
       "<table border=\"1\" class=\"dataframe\">\n",
       "  <thead>\n",
       "    <tr style=\"text-align: right;\">\n",
       "      <th></th>\n",
       "      <th>filename</th>\n",
       "      <th>actual_label</th>\n",
       "      <th>predicted_label</th>\n",
       "      <th>_silence_</th>\n",
       "      <th>_unknown_</th>\n",
       "      <th>yes</th>\n",
       "      <th>no</th>\n",
       "      <th>up</th>\n",
       "      <th>down</th>\n",
       "      <th>left</th>\n",
       "      <th>right</th>\n",
       "      <th>on</th>\n",
       "      <th>off</th>\n",
       "      <th>stop</th>\n",
       "      <th>go</th>\n",
       "    </tr>\n",
       "  </thead>\n",
       "  <tbody>\n",
       "    <tr>\n",
       "      <th>7</th>\n",
       "      <td>25e95412_nohash_4</td>\n",
       "      <td>'up'</td>\n",
       "      <td>'up'</td>\n",
       "      <td>8.460000e-14</td>\n",
       "      <td>0.000006</td>\n",
       "      <td>3.500000e-10</td>\n",
       "      <td>3.660000e-08</td>\n",
       "      <td>9.983247e-01</td>\n",
       "      <td>3.430000e-08</td>\n",
       "      <td>1.340000e-08</td>\n",
       "      <td>1.080000e-09</td>\n",
       "      <td>1.920000e-05</td>\n",
       "      <td>1.636025e-03</td>\n",
       "      <td>8.960000e-06</td>\n",
       "      <td>5.190000e-06</td>\n",
       "    </tr>\n",
       "    <tr>\n",
       "      <th>2</th>\n",
       "      <td>333784b7_nohash_0</td>\n",
       "      <td>'yes'</td>\n",
       "      <td>'yes'</td>\n",
       "      <td>5.720000e-28</td>\n",
       "      <td>0.000001</td>\n",
       "      <td>9.937428e-01</td>\n",
       "      <td>5.820000e-08</td>\n",
       "      <td>1.030000e-15</td>\n",
       "      <td>5.150000e-08</td>\n",
       "      <td>6.256021e-03</td>\n",
       "      <td>9.030000e-12</td>\n",
       "      <td>7.080000e-15</td>\n",
       "      <td>2.920000e-11</td>\n",
       "      <td>1.060000e-13</td>\n",
       "      <td>4.400000e-11</td>\n",
       "    </tr>\n",
       "    <tr>\n",
       "      <th>26</th>\n",
       "      <td>3c257192_nohash_3</td>\n",
       "      <td>'stop'</td>\n",
       "      <td>'stop'</td>\n",
       "      <td>1.870000e-18</td>\n",
       "      <td>0.000001</td>\n",
       "      <td>4.260000e-11</td>\n",
       "      <td>1.710000e-09</td>\n",
       "      <td>1.970000e-05</td>\n",
       "      <td>2.220000e-10</td>\n",
       "      <td>1.370000e-08</td>\n",
       "      <td>2.720000e-13</td>\n",
       "      <td>4.190000e-10</td>\n",
       "      <td>2.770000e-06</td>\n",
       "      <td>9.999764e-01</td>\n",
       "      <td>1.130000e-08</td>\n",
       "    </tr>\n",
       "    <tr>\n",
       "      <th>19</th>\n",
       "      <td>695c2127_nohash_0</td>\n",
       "      <td>'on'</td>\n",
       "      <td>'on'</td>\n",
       "      <td>3.470000e-16</td>\n",
       "      <td>0.001423</td>\n",
       "      <td>2.730000e-11</td>\n",
       "      <td>5.210000e-11</td>\n",
       "      <td>5.630000e-06</td>\n",
       "      <td>7.690000e-07</td>\n",
       "      <td>7.170000e-07</td>\n",
       "      <td>8.440000e-06</td>\n",
       "      <td>9.982230e-01</td>\n",
       "      <td>3.385430e-04</td>\n",
       "      <td>1.570000e-08</td>\n",
       "      <td>2.540000e-09</td>\n",
       "    </tr>\n",
       "    <tr>\n",
       "      <th>22</th>\n",
       "      <td>7846fd85_nohash_1</td>\n",
       "      <td>'off'</td>\n",
       "      <td>'off'</td>\n",
       "      <td>4.270000e-19</td>\n",
       "      <td>0.000011</td>\n",
       "      <td>8.280000e-13</td>\n",
       "      <td>1.690000e-10</td>\n",
       "      <td>2.050000e-05</td>\n",
       "      <td>5.410000e-11</td>\n",
       "      <td>1.090000e-08</td>\n",
       "      <td>1.100000e-09</td>\n",
       "      <td>7.050000e-05</td>\n",
       "      <td>9.998970e-01</td>\n",
       "      <td>8.150000e-07</td>\n",
       "      <td>2.650000e-08</td>\n",
       "    </tr>\n",
       "  </tbody>\n",
       "</table>\n",
       "</div>"
      ],
      "text/plain": [
       "             filename actual_label predicted_label     _silence_  _unknown_  \\\n",
       "7   25e95412_nohash_4         'up'            'up'  8.460000e-14   0.000006   \n",
       "2   333784b7_nohash_0        'yes'           'yes'  5.720000e-28   0.000001   \n",
       "26  3c257192_nohash_3       'stop'          'stop'  1.870000e-18   0.000001   \n",
       "19  695c2127_nohash_0         'on'            'on'  3.470000e-16   0.001423   \n",
       "22  7846fd85_nohash_1        'off'           'off'  4.270000e-19   0.000011   \n",
       "\n",
       "             yes            no            up          down          left  \\\n",
       "7   3.500000e-10  3.660000e-08  9.983247e-01  3.430000e-08  1.340000e-08   \n",
       "2   9.937428e-01  5.820000e-08  1.030000e-15  5.150000e-08  6.256021e-03   \n",
       "26  4.260000e-11  1.710000e-09  1.970000e-05  2.220000e-10  1.370000e-08   \n",
       "19  2.730000e-11  5.210000e-11  5.630000e-06  7.690000e-07  7.170000e-07   \n",
       "22  8.280000e-13  1.690000e-10  2.050000e-05  5.410000e-11  1.090000e-08   \n",
       "\n",
       "           right            on           off          stop            go  \n",
       "7   1.080000e-09  1.920000e-05  1.636025e-03  8.960000e-06  5.190000e-06  \n",
       "2   9.030000e-12  7.080000e-15  2.920000e-11  1.060000e-13  4.400000e-11  \n",
       "26  2.720000e-13  4.190000e-10  2.770000e-06  9.999764e-01  1.130000e-08  \n",
       "19  8.440000e-06  9.982230e-01  3.385430e-04  1.570000e-08  2.540000e-09  \n",
       "22  1.100000e-09  7.050000e-05  9.998970e-01  8.150000e-07  2.650000e-08  "
      ]
     },
     "execution_count": 7,
     "metadata": {},
     "output_type": "execute_result"
    }
   ],
   "source": [
    "df.head()\n"
   ]
  },
  {
   "cell_type": "code",
   "execution_count": null,
   "metadata": {},
   "outputs": [],
   "source": []
  }
 ],
 "metadata": {
  "interpreter": {
   "hash": "916dbcbb3f70747c44a77c7bcd40155683ae19c65e1c03b4aa3499c5328201f1"
  },
  "kernelspec": {
   "display_name": "Python 3.8.10 64-bit",
   "language": "python",
   "name": "python3"
  },
  "language_info": {
   "codemirror_mode": {
    "name": "ipython",
    "version": 3
   },
   "file_extension": ".py",
   "mimetype": "text/x-python",
   "name": "python",
   "nbconvert_exporter": "python",
   "pygments_lexer": "ipython3",
   "version": "3.8.10"
  },
  "orig_nbformat": 4
 },
 "nbformat": 4,
 "nbformat_minor": 2
}
